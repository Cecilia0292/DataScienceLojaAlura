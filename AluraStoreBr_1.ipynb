{
  "nbformat": 4,
  "nbformat_minor": 0,
  "metadata": {
    "colab": {
      "provenance": []
    },
    "kernelspec": {
      "name": "python3",
      "display_name": "Python 3"
    },
    "language_info": {
      "name": "python"
    }
  },
  "cells": [
    {
      "cell_type": "markdown",
      "source": [
        "### Importação dos dados\n",
        "\n"
      ],
      "metadata": {
        "id": "RhEdWd9YUR6H"
      }
    },
    {
      "cell_type": "code",
      "execution_count": 28,
      "metadata": {
        "colab": {
          "base_uri": "https://localhost:8080/",
          "height": 206
        },
        "id": "T3EvaeQ_INIL",
        "outputId": "1e725127-4e63-4da3-fe48-b997f8b0d608"
      },
      "outputs": [
        {
          "output_type": "execute_result",
          "data": {
            "text/plain": [
              "                 Produto Categoria do Produto    Preço      Frete  \\\n",
              "0     Assistente virtual          eletronicos   219.08   9.249790   \n",
              "1         Mesa de jantar               moveis   256.35  11.234305   \n",
              "2      Jogo de tabuleiro           brinquedos   279.51  21.262681   \n",
              "3            Micro-ondas     eletrodomesticos  1009.99  54.667344   \n",
              "4  Cadeira de escritório               moveis   446.99  26.964689   \n",
              "\n",
              "  Data da Compra        Vendedor Local da compra  Avaliação da compra  \\\n",
              "0     16/01/2021     Pedro Gomes              SP                    4   \n",
              "1     18/05/2022  Beatriz Moraes              RJ                    1   \n",
              "2     15/03/2021      João Souza              DF                    1   \n",
              "3     03/05/2022      João Souza              RS                    4   \n",
              "4     07/11/2020   Larissa Alves              MG                    5   \n",
              "\n",
              "  Tipo de pagamento  Quantidade de parcelas    lat    lon  \n",
              "0    cartao_credito                       8 -22.19 -48.79  \n",
              "1    cartao_credito                       4 -22.25 -42.66  \n",
              "2    cartao_credito                       1 -15.83 -47.86  \n",
              "3            boleto                       1 -30.17 -53.50  \n",
              "4            boleto                       1 -18.10 -44.38  "
            ],
            "text/html": [
              "\n",
              "  <div id=\"df-2fcff8a9-f614-4bb7-9bfd-25cefe1140ce\" class=\"colab-df-container\">\n",
              "    <div>\n",
              "<style scoped>\n",
              "    .dataframe tbody tr th:only-of-type {\n",
              "        vertical-align: middle;\n",
              "    }\n",
              "\n",
              "    .dataframe tbody tr th {\n",
              "        vertical-align: top;\n",
              "    }\n",
              "\n",
              "    .dataframe thead th {\n",
              "        text-align: right;\n",
              "    }\n",
              "</style>\n",
              "<table border=\"1\" class=\"dataframe\">\n",
              "  <thead>\n",
              "    <tr style=\"text-align: right;\">\n",
              "      <th></th>\n",
              "      <th>Produto</th>\n",
              "      <th>Categoria do Produto</th>\n",
              "      <th>Preço</th>\n",
              "      <th>Frete</th>\n",
              "      <th>Data da Compra</th>\n",
              "      <th>Vendedor</th>\n",
              "      <th>Local da compra</th>\n",
              "      <th>Avaliação da compra</th>\n",
              "      <th>Tipo de pagamento</th>\n",
              "      <th>Quantidade de parcelas</th>\n",
              "      <th>lat</th>\n",
              "      <th>lon</th>\n",
              "    </tr>\n",
              "  </thead>\n",
              "  <tbody>\n",
              "    <tr>\n",
              "      <th>0</th>\n",
              "      <td>Assistente virtual</td>\n",
              "      <td>eletronicos</td>\n",
              "      <td>219.08</td>\n",
              "      <td>9.249790</td>\n",
              "      <td>16/01/2021</td>\n",
              "      <td>Pedro Gomes</td>\n",
              "      <td>SP</td>\n",
              "      <td>4</td>\n",
              "      <td>cartao_credito</td>\n",
              "      <td>8</td>\n",
              "      <td>-22.19</td>\n",
              "      <td>-48.79</td>\n",
              "    </tr>\n",
              "    <tr>\n",
              "      <th>1</th>\n",
              "      <td>Mesa de jantar</td>\n",
              "      <td>moveis</td>\n",
              "      <td>256.35</td>\n",
              "      <td>11.234305</td>\n",
              "      <td>18/05/2022</td>\n",
              "      <td>Beatriz Moraes</td>\n",
              "      <td>RJ</td>\n",
              "      <td>1</td>\n",
              "      <td>cartao_credito</td>\n",
              "      <td>4</td>\n",
              "      <td>-22.25</td>\n",
              "      <td>-42.66</td>\n",
              "    </tr>\n",
              "    <tr>\n",
              "      <th>2</th>\n",
              "      <td>Jogo de tabuleiro</td>\n",
              "      <td>brinquedos</td>\n",
              "      <td>279.51</td>\n",
              "      <td>21.262681</td>\n",
              "      <td>15/03/2021</td>\n",
              "      <td>João Souza</td>\n",
              "      <td>DF</td>\n",
              "      <td>1</td>\n",
              "      <td>cartao_credito</td>\n",
              "      <td>1</td>\n",
              "      <td>-15.83</td>\n",
              "      <td>-47.86</td>\n",
              "    </tr>\n",
              "    <tr>\n",
              "      <th>3</th>\n",
              "      <td>Micro-ondas</td>\n",
              "      <td>eletrodomesticos</td>\n",
              "      <td>1009.99</td>\n",
              "      <td>54.667344</td>\n",
              "      <td>03/05/2022</td>\n",
              "      <td>João Souza</td>\n",
              "      <td>RS</td>\n",
              "      <td>4</td>\n",
              "      <td>boleto</td>\n",
              "      <td>1</td>\n",
              "      <td>-30.17</td>\n",
              "      <td>-53.50</td>\n",
              "    </tr>\n",
              "    <tr>\n",
              "      <th>4</th>\n",
              "      <td>Cadeira de escritório</td>\n",
              "      <td>moveis</td>\n",
              "      <td>446.99</td>\n",
              "      <td>26.964689</td>\n",
              "      <td>07/11/2020</td>\n",
              "      <td>Larissa Alves</td>\n",
              "      <td>MG</td>\n",
              "      <td>5</td>\n",
              "      <td>boleto</td>\n",
              "      <td>1</td>\n",
              "      <td>-18.10</td>\n",
              "      <td>-44.38</td>\n",
              "    </tr>\n",
              "  </tbody>\n",
              "</table>\n",
              "</div>\n",
              "    <div class=\"colab-df-buttons\">\n",
              "\n",
              "  <div class=\"colab-df-container\">\n",
              "    <button class=\"colab-df-convert\" onclick=\"convertToInteractive('df-2fcff8a9-f614-4bb7-9bfd-25cefe1140ce')\"\n",
              "            title=\"Convert this dataframe to an interactive table.\"\n",
              "            style=\"display:none;\">\n",
              "\n",
              "  <svg xmlns=\"http://www.w3.org/2000/svg\" height=\"24px\" viewBox=\"0 -960 960 960\">\n",
              "    <path d=\"M120-120v-720h720v720H120Zm60-500h600v-160H180v160Zm220 220h160v-160H400v160Zm0 220h160v-160H400v160ZM180-400h160v-160H180v160Zm440 0h160v-160H620v160ZM180-180h160v-160H180v160Zm440 0h160v-160H620v160Z\"/>\n",
              "  </svg>\n",
              "    </button>\n",
              "\n",
              "  <style>\n",
              "    .colab-df-container {\n",
              "      display:flex;\n",
              "      gap: 12px;\n",
              "    }\n",
              "\n",
              "    .colab-df-convert {\n",
              "      background-color: #E8F0FE;\n",
              "      border: none;\n",
              "      border-radius: 50%;\n",
              "      cursor: pointer;\n",
              "      display: none;\n",
              "      fill: #1967D2;\n",
              "      height: 32px;\n",
              "      padding: 0 0 0 0;\n",
              "      width: 32px;\n",
              "    }\n",
              "\n",
              "    .colab-df-convert:hover {\n",
              "      background-color: #E2EBFA;\n",
              "      box-shadow: 0px 1px 2px rgba(60, 64, 67, 0.3), 0px 1px 3px 1px rgba(60, 64, 67, 0.15);\n",
              "      fill: #174EA6;\n",
              "    }\n",
              "\n",
              "    .colab-df-buttons div {\n",
              "      margin-bottom: 4px;\n",
              "    }\n",
              "\n",
              "    [theme=dark] .colab-df-convert {\n",
              "      background-color: #3B4455;\n",
              "      fill: #D2E3FC;\n",
              "    }\n",
              "\n",
              "    [theme=dark] .colab-df-convert:hover {\n",
              "      background-color: #434B5C;\n",
              "      box-shadow: 0px 1px 3px 1px rgba(0, 0, 0, 0.15);\n",
              "      filter: drop-shadow(0px 1px 2px rgba(0, 0, 0, 0.3));\n",
              "      fill: #FFFFFF;\n",
              "    }\n",
              "  </style>\n",
              "\n",
              "    <script>\n",
              "      const buttonEl =\n",
              "        document.querySelector('#df-2fcff8a9-f614-4bb7-9bfd-25cefe1140ce button.colab-df-convert');\n",
              "      buttonEl.style.display =\n",
              "        google.colab.kernel.accessAllowed ? 'block' : 'none';\n",
              "\n",
              "      async function convertToInteractive(key) {\n",
              "        const element = document.querySelector('#df-2fcff8a9-f614-4bb7-9bfd-25cefe1140ce');\n",
              "        const dataTable =\n",
              "          await google.colab.kernel.invokeFunction('convertToInteractive',\n",
              "                                                    [key], {});\n",
              "        if (!dataTable) return;\n",
              "\n",
              "        const docLinkHtml = 'Like what you see? Visit the ' +\n",
              "          '<a target=\"_blank\" href=https://colab.research.google.com/notebooks/data_table.ipynb>data table notebook</a>'\n",
              "          + ' to learn more about interactive tables.';\n",
              "        element.innerHTML = '';\n",
              "        dataTable['output_type'] = 'display_data';\n",
              "        await google.colab.output.renderOutput(dataTable, element);\n",
              "        const docLink = document.createElement('div');\n",
              "        docLink.innerHTML = docLinkHtml;\n",
              "        element.appendChild(docLink);\n",
              "      }\n",
              "    </script>\n",
              "  </div>\n",
              "\n",
              "\n",
              "<div id=\"df-06a91091-ee70-4337-84f6-30dec98df8c1\">\n",
              "  <button class=\"colab-df-quickchart\" onclick=\"quickchart('df-06a91091-ee70-4337-84f6-30dec98df8c1')\"\n",
              "            title=\"Suggest charts\"\n",
              "            style=\"display:none;\">\n",
              "\n",
              "<svg xmlns=\"http://www.w3.org/2000/svg\" height=\"24px\"viewBox=\"0 0 24 24\"\n",
              "     width=\"24px\">\n",
              "    <g>\n",
              "        <path d=\"M19 3H5c-1.1 0-2 .9-2 2v14c0 1.1.9 2 2 2h14c1.1 0 2-.9 2-2V5c0-1.1-.9-2-2-2zM9 17H7v-7h2v7zm4 0h-2V7h2v10zm4 0h-2v-4h2v4z\"/>\n",
              "    </g>\n",
              "</svg>\n",
              "  </button>\n",
              "\n",
              "<style>\n",
              "  .colab-df-quickchart {\n",
              "      --bg-color: #E8F0FE;\n",
              "      --fill-color: #1967D2;\n",
              "      --hover-bg-color: #E2EBFA;\n",
              "      --hover-fill-color: #174EA6;\n",
              "      --disabled-fill-color: #AAA;\n",
              "      --disabled-bg-color: #DDD;\n",
              "  }\n",
              "\n",
              "  [theme=dark] .colab-df-quickchart {\n",
              "      --bg-color: #3B4455;\n",
              "      --fill-color: #D2E3FC;\n",
              "      --hover-bg-color: #434B5C;\n",
              "      --hover-fill-color: #FFFFFF;\n",
              "      --disabled-bg-color: #3B4455;\n",
              "      --disabled-fill-color: #666;\n",
              "  }\n",
              "\n",
              "  .colab-df-quickchart {\n",
              "    background-color: var(--bg-color);\n",
              "    border: none;\n",
              "    border-radius: 50%;\n",
              "    cursor: pointer;\n",
              "    display: none;\n",
              "    fill: var(--fill-color);\n",
              "    height: 32px;\n",
              "    padding: 0;\n",
              "    width: 32px;\n",
              "  }\n",
              "\n",
              "  .colab-df-quickchart:hover {\n",
              "    background-color: var(--hover-bg-color);\n",
              "    box-shadow: 0 1px 2px rgba(60, 64, 67, 0.3), 0 1px 3px 1px rgba(60, 64, 67, 0.15);\n",
              "    fill: var(--button-hover-fill-color);\n",
              "  }\n",
              "\n",
              "  .colab-df-quickchart-complete:disabled,\n",
              "  .colab-df-quickchart-complete:disabled:hover {\n",
              "    background-color: var(--disabled-bg-color);\n",
              "    fill: var(--disabled-fill-color);\n",
              "    box-shadow: none;\n",
              "  }\n",
              "\n",
              "  .colab-df-spinner {\n",
              "    border: 2px solid var(--fill-color);\n",
              "    border-color: transparent;\n",
              "    border-bottom-color: var(--fill-color);\n",
              "    animation:\n",
              "      spin 1s steps(1) infinite;\n",
              "  }\n",
              "\n",
              "  @keyframes spin {\n",
              "    0% {\n",
              "      border-color: transparent;\n",
              "      border-bottom-color: var(--fill-color);\n",
              "      border-left-color: var(--fill-color);\n",
              "    }\n",
              "    20% {\n",
              "      border-color: transparent;\n",
              "      border-left-color: var(--fill-color);\n",
              "      border-top-color: var(--fill-color);\n",
              "    }\n",
              "    30% {\n",
              "      border-color: transparent;\n",
              "      border-left-color: var(--fill-color);\n",
              "      border-top-color: var(--fill-color);\n",
              "      border-right-color: var(--fill-color);\n",
              "    }\n",
              "    40% {\n",
              "      border-color: transparent;\n",
              "      border-right-color: var(--fill-color);\n",
              "      border-top-color: var(--fill-color);\n",
              "    }\n",
              "    60% {\n",
              "      border-color: transparent;\n",
              "      border-right-color: var(--fill-color);\n",
              "    }\n",
              "    80% {\n",
              "      border-color: transparent;\n",
              "      border-right-color: var(--fill-color);\n",
              "      border-bottom-color: var(--fill-color);\n",
              "    }\n",
              "    90% {\n",
              "      border-color: transparent;\n",
              "      border-bottom-color: var(--fill-color);\n",
              "    }\n",
              "  }\n",
              "</style>\n",
              "\n",
              "  <script>\n",
              "    async function quickchart(key) {\n",
              "      const quickchartButtonEl =\n",
              "        document.querySelector('#' + key + ' button');\n",
              "      quickchartButtonEl.disabled = true;  // To prevent multiple clicks.\n",
              "      quickchartButtonEl.classList.add('colab-df-spinner');\n",
              "      try {\n",
              "        const charts = await google.colab.kernel.invokeFunction(\n",
              "            'suggestCharts', [key], {});\n",
              "      } catch (error) {\n",
              "        console.error('Error during call to suggestCharts:', error);\n",
              "      }\n",
              "      quickchartButtonEl.classList.remove('colab-df-spinner');\n",
              "      quickchartButtonEl.classList.add('colab-df-quickchart-complete');\n",
              "    }\n",
              "    (() => {\n",
              "      let quickchartButtonEl =\n",
              "        document.querySelector('#df-06a91091-ee70-4337-84f6-30dec98df8c1 button');\n",
              "      quickchartButtonEl.style.display =\n",
              "        google.colab.kernel.accessAllowed ? 'block' : 'none';\n",
              "    })();\n",
              "  </script>\n",
              "</div>\n",
              "\n",
              "    </div>\n",
              "  </div>\n"
            ],
            "application/vnd.google.colaboratory.intrinsic+json": {
              "type": "dataframe",
              "variable_name": "loja",
              "summary": "{\n  \"name\": \"loja\",\n  \"rows\": 2359,\n  \"fields\": [\n    {\n      \"column\": \"Produto\",\n      \"properties\": {\n        \"dtype\": \"category\",\n        \"num_unique_values\": 51,\n        \"samples\": [\n          \"Viol\\u00e3o\",\n          \"Bola de basquete\",\n          \"Smartwatch\"\n        ],\n        \"semantic_type\": \"\",\n        \"description\": \"\"\n      }\n    },\n    {\n      \"column\": \"Categoria do Produto\",\n      \"properties\": {\n        \"dtype\": \"category\",\n        \"num_unique_values\": 8,\n        \"samples\": [\n          \"moveis\",\n          \"esporte e lazer\",\n          \"eletronicos\"\n        ],\n        \"semantic_type\": \"\",\n        \"description\": \"\"\n      }\n    },\n    {\n      \"column\": \"Pre\\u00e7o\",\n      \"properties\": {\n        \"dtype\": \"number\",\n        \"std\": 819.5827782539145,\n        \"min\": 10.07,\n        \"max\": 3969.38,\n        \"num_unique_values\": 2315,\n        \"samples\": [\n          446.11,\n          107.31,\n          65.86\n        ],\n        \"semantic_type\": \"\",\n        \"description\": \"\"\n      }\n    },\n    {\n      \"column\": \"Frete\",\n      \"properties\": {\n        \"dtype\": \"number\",\n        \"std\": 43.814183327408166,\n        \"min\": 0.0,\n        \"max\": 214.3770604781,\n        \"num_unique_values\": 2149,\n        \"samples\": [\n          83.815279607,\n          16.069664669,\n          14.0344876928\n        ],\n        \"semantic_type\": \"\",\n        \"description\": \"\"\n      }\n    },\n    {\n      \"column\": \"Data da Compra\",\n      \"properties\": {\n        \"dtype\": \"object\",\n        \"num_unique_values\": 1018,\n        \"samples\": [\n          \"15/09/2022\",\n          \"03/06/2020\",\n          \"06/11/2021\"\n        ],\n        \"semantic_type\": \"\",\n        \"description\": \"\"\n      }\n    },\n    {\n      \"column\": \"Vendedor\",\n      \"properties\": {\n        \"dtype\": \"category\",\n        \"num_unique_values\": 14,\n        \"samples\": [\n          \"Juliana Costa\",\n          \"Mariana Ferreira\",\n          \"Pedro Gomes\"\n        ],\n        \"semantic_type\": \"\",\n        \"description\": \"\"\n      }\n    },\n    {\n      \"column\": \"Local da compra\",\n      \"properties\": {\n        \"dtype\": \"category\",\n        \"num_unique_values\": 26,\n        \"samples\": [\n          \"TO\",\n          \"RN\",\n          \"SP\"\n        ],\n        \"semantic_type\": \"\",\n        \"description\": \"\"\n      }\n    },\n    {\n      \"column\": \"Avalia\\u00e7\\u00e3o da compra\",\n      \"properties\": {\n        \"dtype\": \"number\",\n        \"std\": 1,\n        \"min\": 1,\n        \"max\": 5,\n        \"num_unique_values\": 5,\n        \"samples\": [\n          1,\n          2,\n          5\n        ],\n        \"semantic_type\": \"\",\n        \"description\": \"\"\n      }\n    },\n    {\n      \"column\": \"Tipo de pagamento\",\n      \"properties\": {\n        \"dtype\": \"category\",\n        \"num_unique_values\": 4,\n        \"samples\": [\n          \"boleto\",\n          \"cartao_debito\",\n          \"cartao_credito\"\n        ],\n        \"semantic_type\": \"\",\n        \"description\": \"\"\n      }\n    },\n    {\n      \"column\": \"Quantidade de parcelas\",\n      \"properties\": {\n        \"dtype\": \"number\",\n        \"std\": 2,\n        \"min\": 1,\n        \"max\": 24,\n        \"num_unique_values\": 15,\n        \"samples\": [\n          7,\n          14,\n          8\n        ],\n        \"semantic_type\": \"\",\n        \"description\": \"\"\n      }\n    },\n    {\n      \"column\": \"lat\",\n      \"properties\": {\n        \"dtype\": \"number\",\n        \"std\": 5.372399916530833,\n        \"min\": -30.17,\n        \"max\": 1.41,\n        \"num_unique_values\": 26,\n        \"samples\": [\n          -9.46,\n          -5.81,\n          -22.19\n        ],\n        \"semantic_type\": \"\",\n        \"description\": \"\"\n      }\n    },\n    {\n      \"column\": \"lon\",\n      \"properties\": {\n        \"dtype\": \"number\",\n        \"std\": 4.183180020544179,\n        \"min\": -70.55,\n        \"max\": -36.59,\n        \"num_unique_values\": 26,\n        \"samples\": [\n          -48.26,\n          -36.59,\n          -48.79\n        ],\n        \"semantic_type\": \"\",\n        \"description\": \"\"\n      }\n    }\n  ]\n}"
            }
          },
          "metadata": {},
          "execution_count": 28
        }
      ],
      "source": [
        "import pandas as pd\n",
        "\n",
        "url = \"https://raw.githubusercontent.com/alura-es-cursos/challenge1-data-science/refs/heads/main/base-de-dados-challenge-1/loja_1.csv\"\n",
        "url2 = \"https://raw.githubusercontent.com/alura-es-cursos/challenge1-data-science/refs/heads/main/base-de-dados-challenge-1/loja_2.csv\"\n",
        "url3 = \"https://raw.githubusercontent.com/alura-es-cursos/challenge1-data-science/refs/heads/main/base-de-dados-challenge-1/loja_3.csv\"\n",
        "url4 = \"https://raw.githubusercontent.com/alura-es-cursos/challenge1-data-science/refs/heads/main/base-de-dados-challenge-1/loja_4.csv\"\n",
        "\n",
        "loja = pd.read_csv(url)\n",
        "loja2 = pd.read_csv(url2)\n",
        "loja3 = pd.read_csv(url3)\n",
        "loja4 = pd.read_csv(url4)\n",
        "\n",
        "loja.head()"
      ]
    },
    {
      "cell_type": "markdown",
      "source": [
        "##*Criação de dataframe por lojas*"
      ],
      "metadata": {
        "id": "avPl7TjXBMCv"
      }
    },
    {
      "cell_type": "code",
      "source": [],
      "metadata": {
        "id": "BWdA-2sDBLca"
      },
      "execution_count": null,
      "outputs": []
    },
    {
      "cell_type": "markdown",
      "source": [
        "#1. Análise do faturamento\n"
      ],
      "metadata": {
        "id": "X62IW3KFUIYm"
      }
    },
    {
      "cell_type": "code",
      "source": [
        "print(type(loja))  # Isso mostrará se `loja` é um DataFrame ou uma string"
      ],
      "metadata": {
        "colab": {
          "base_uri": "https://localhost:8080/"
        },
        "id": "UzZMHCUdHvEM",
        "outputId": "3fba864b-057e-47c4-e6de-d99e99473699"
      },
      "execution_count": 29,
      "outputs": [
        {
          "output_type": "stream",
          "name": "stdout",
          "text": [
            "<class 'pandas.core.frame.DataFrame'>\n"
          ]
        }
      ]
    },
    {
      "cell_type": "markdown",
      "source": [
        "###Faturamento total por loja"
      ],
      "metadata": {
        "id": "49O3xZkk_PBr"
      }
    },
    {
      "cell_type": "code",
      "source": [
        "# Criando um dicionário com os faturamentos\n",
        "faturamento_por_loja = {\n",
        "    \"Loja 1\": loja[\"Preço\"].sum(),\n",
        "    \"Loja 2\": loja2[\"Preço\"].sum(),\n",
        "    \"Loja 3\": loja3[\"Preço\"].sum(),\n",
        "    \"Loja 4\": loja4[\"Preço\"].sum(),\n",
        "}\n",
        "\n",
        "# Exibir os resultados formatados\n",
        "print(\"Faturamento por Loja:\")\n",
        "for nome_loja, faturamento in faturamento_por_loja.items():\n",
        "    print(f\"{nome_loja}: R${f'{faturamento:,.2f}'.replace(',', 'X').replace('.', ',').replace('X', '.')}\")"
      ],
      "metadata": {
        "colab": {
          "base_uri": "https://localhost:8080/"
        },
        "id": "mKnuIskQFDJp",
        "outputId": "48b0bbd0-fa7c-4481-9fe0-01ba0a106196"
      },
      "execution_count": null,
      "outputs": [
        {
          "output_type": "stream",
          "name": "stdout",
          "text": [
            "Faturamento por Loja:\n",
            "Loja 1: R$1.534.509,12\n",
            "Loja 2: R$1.488.459,06\n",
            "Loja 3: R$1.464.025,03\n",
            "Loja 4: R$1.384.497,58\n"
          ]
        }
      ]
    },
    {
      "cell_type": "markdown",
      "source": [
        "###Faturamento médio por venda"
      ],
      "metadata": {
        "id": "CaHWuX0w_Tt0"
      }
    },
    {
      "cell_type": "code",
      "source": [
        "faturamento_medio_por_loja = {\n",
        "    \"Loja 1\": loja[\"Preço\"].sum() / len(loja),\n",
        "    \"Loja 2\": loja2[\"Preço\"].sum() / len(loja2),\n",
        "    \"Loja 3\": loja3[\"Preço\"].sum() / len(loja3),\n",
        "    \"Loja 4\": loja4[\"Preço\"].sum() / len(loja4),\n",
        "}\n",
        "\n",
        "print(\"Faturamento Médio por Loja:\")\n",
        "for nome_loja, faturamento_medio in faturamento_medio_por_loja.items():\n",
        "    print(f\"{nome_loja}: R$ {f'{faturamento_medio:,.2f}'.replace(',', 'X').replace('.', ',').replace('X', '.')}\")"
      ],
      "metadata": {
        "id": "KDyr8E71V3m-",
        "colab": {
          "base_uri": "https://localhost:8080/"
        },
        "outputId": "ed8bfb70-8f47-40bf-f832-6b729a68b402"
      },
      "execution_count": null,
      "outputs": [
        {
          "output_type": "stream",
          "name": "stdout",
          "text": [
            "Faturamento Médio por Loja:\n",
            "Loja 1: R$ 650,49\n",
            "Loja 2: R$ 630,97\n",
            "Loja 3: R$ 620,61\n",
            "Loja 4: R$ 587,15\n"
          ]
        }
      ]
    },
    {
      "cell_type": "markdown",
      "source": [
        "###Custo frete por loja"
      ],
      "metadata": {
        "id": "O-0Z1_rKN55R"
      }
    },
    {
      "cell_type": "code",
      "source": [
        "# Somando o frete total por loja\n",
        "custo_frete_por_loja = {\n",
        "    \"Loja 1\": loja[\"Frete\"].sum(),\n",
        "    \"Loja 2\": loja2[\"Frete\"].sum(),\n",
        "    \"Loja 3\": loja3[\"Frete\"].sum(),\n",
        "    \"Loja 4\": loja4[\"Frete\"].sum(),\n",
        "}\n",
        "\n",
        "# Exibir os custos de frete por loja\n",
        "print(\"Custo total de frete por loja:\")\n",
        "for nome_loja, custo_frete in custo_frete_por_loja.items():\n",
        "    print(f\"{nome_loja}: R${f'{custo_frete:,.2f}'.replace(',', 'X').replace('.', ',').replace('X', '.')}\")"
      ],
      "metadata": {
        "colab": {
          "base_uri": "https://localhost:8080/"
        },
        "id": "h7HNNk29N9km",
        "outputId": "3c2c8c2a-40d4-4ae3-9a8b-644eb79a378e"
      },
      "execution_count": null,
      "outputs": [
        {
          "output_type": "stream",
          "name": "stdout",
          "text": [
            "Custo total de frete por loja:\n",
            "Loja 1: R$81.837,97\n",
            "Loja 2: R$79.314,16\n",
            "Loja 3: R$78.022,66\n",
            "Loja 4: R$73.755,88\n"
          ]
        }
      ]
    },
    {
      "cell_type": "markdown",
      "source": [
        "###Margem de lucro por loja"
      ],
      "metadata": {
        "id": "mXVDJZN5Lw4P"
      }
    },
    {
      "cell_type": "code",
      "source": [
        "# Criando a função para calcular a margem de lucro\n",
        "def calcular_margem_lucro(preco, frete):\n",
        "    return (preco - frete) / preco * 100\n",
        "\n",
        "# Aplicando a função para calcular a margem de lucro por loja\n",
        "margem_lucro_por_loja = {\n",
        "    \"Loja 1\": calcular_margem_lucro(loja[\"Preço\"].sum(), loja[\"Frete\"].sum()),\n",
        "    \"Loja 2\": calcular_margem_lucro(loja2[\"Preço\"].sum(), loja2[\"Frete\"].sum()),\n",
        "    \"Loja 3\": calcular_margem_lucro(loja3[\"Preço\"].sum(), loja3[\"Frete\"].sum()),\n",
        "    \"Loja 4\": calcular_margem_lucro(loja4[\"Preço\"].sum(), loja4[\"Frete\"].sum()),\n",
        "}\n",
        "\n",
        "# Exibindo os resultados formatados\n",
        "print(\"Margem de Lucro por Loja:\")\n",
        "for nome_loja, margem_lucro in margem_lucro_por_loja.items():\n",
        "    print(f\"{nome_loja}: {margem_lucro:.2f}%\")"
      ],
      "metadata": {
        "colab": {
          "base_uri": "https://localhost:8080/"
        },
        "id": "MSmcqiTrLs5h",
        "outputId": "61bc7965-a36b-45e7-ce5b-b43e87864347"
      },
      "execution_count": null,
      "outputs": [
        {
          "output_type": "stream",
          "name": "stdout",
          "text": [
            "Margem de Lucro por Loja:\n",
            "Loja 1: 94.67%\n",
            "Loja 2: 94.67%\n",
            "Loja 3: 94.67%\n",
            "Loja 4: 94.67%\n"
          ]
        }
      ]
    },
    {
      "cell_type": "code",
      "source": [
        "print(faturamento_por_loja)\n",
        "print(custo_frete_por_loja)"
      ],
      "metadata": {
        "colab": {
          "base_uri": "https://localhost:8080/"
        },
        "id": "v-xr2Mq1Nn_G",
        "outputId": "02560fce-733d-407e-b47a-55b0dda648ba"
      },
      "execution_count": null,
      "outputs": [
        {
          "output_type": "stream",
          "name": "stdout",
          "text": [
            "{'Loja 1': np.float64(1534509.12), 'Loja 2': np.float64(1488459.06), 'Loja 3': np.float64(1464025.03), 'Loja 4': np.float64(1384497.58)}\n",
            "{'Loja 1': np.float64(81837.9677956916), 'Loja 2': np.float64(79314.1580126449), 'Loja 3': np.float64(78022.66122264302), 'Loja 4': np.float64(73755.87511898279)}\n"
          ]
        }
      ]
    },
    {
      "cell_type": "markdown",
      "source": [
        "###Margem de lucro considerando o frete"
      ],
      "metadata": {
        "id": "S3uJAfFVOenW"
      }
    },
    {
      "cell_type": "code",
      "source": [
        "# Calculando a margem de lucro considerando o frete\n",
        "margem_lucro_por_loja = {\n",
        "    \"Loja 1\": calcular_margem_lucro(faturamento_por_loja[\"Loja 1\"], custo_frete_por_loja[\"Loja 1\"]),\n",
        "    \"Loja 2\": calcular_margem_lucro(faturamento_por_loja[\"Loja 2\"], custo_frete_por_loja[\"Loja 2\"]),\n",
        "    \"Loja 3\": calcular_margem_lucro(faturamento_por_loja[\"Loja 3\"], custo_frete_por_loja[\"Loja 3\"]),\n",
        "    \"Loja 4\": calcular_margem_lucro(faturamento_por_loja[\"Loja 4\"], custo_frete_por_loja[\"Loja 4\"]),\n",
        "}\n",
        "\n",
        "print(\"Margem de Lucro considerando Frete por Loja:\")\n",
        "for loja, margem in margem_lucro_por_loja.items():\n",
        "    print(f\"{loja}: {margem:.2f}%\")"
      ],
      "metadata": {
        "colab": {
          "base_uri": "https://localhost:8080/"
        },
        "id": "6jcpzhm9OdiJ",
        "outputId": "4f4d01b7-2bac-441b-dfbb-110922bc2d50"
      },
      "execution_count": null,
      "outputs": [
        {
          "output_type": "stream",
          "name": "stdout",
          "text": [
            "Margem de Lucro considerando Frete por Loja:\n",
            "Loja 1: 94.67%\n",
            "Loja 2: 94.67%\n",
            "Loja 3: 94.67%\n",
            "Loja 4: 94.67%\n"
          ]
        }
      ]
    },
    {
      "cell_type": "markdown",
      "source": [
        "# 2. Vendas por Categoria\n"
      ],
      "metadata": {
        "id": "2V_vcAPzWZmR"
      }
    },
    {
      "cell_type": "markdown",
      "source": [
        "###Quantidade venda por categoria"
      ],
      "metadata": {
        "id": "jvpTygXGaVpe"
      }
    },
    {
      "cell_type": "code",
      "source": [
        "vendas_por_categoria = loja.groupby(\"Categoria do Produto\")[\"Produto\"].count()\n",
        "print(\"Quantidade de vendas por categoria:\")\n",
        "print(vendas_por_categoria)"
      ],
      "metadata": {
        "id": "yZR6cOjXYSk1",
        "colab": {
          "base_uri": "https://localhost:8080/"
        },
        "outputId": "1a422123-676d-4489-a431-362b5fe8da64"
      },
      "execution_count": 32,
      "outputs": [
        {
          "output_type": "stream",
          "name": "stdout",
          "text": [
            "Quantidade de vendas por categoria:\n",
            "Categoria do Produto\n",
            "brinquedos               324\n",
            "eletrodomesticos         312\n",
            "eletronicos              448\n",
            "esporte e lazer          284\n",
            "instrumentos musicais    182\n",
            "livros                   173\n",
            "moveis                   465\n",
            "utilidades domesticas    171\n",
            "Name: Produto, dtype: int64\n"
          ]
        }
      ]
    },
    {
      "cell_type": "markdown",
      "source": [
        "###Faturamento total por categoria"
      ],
      "metadata": {
        "id": "oZZJInqkPjzo"
      }
    },
    {
      "cell_type": "code",
      "source": [
        "faturamento_por_categoria = loja.groupby(\"Categoria do Produto\")[\"Preço\"].sum()\n",
        "print(\"Faturamento por categoria:\")\n",
        "print(faturamento_por_categoria)"
      ],
      "metadata": {
        "colab": {
          "base_uri": "https://localhost:8080/"
        },
        "id": "BQbHPoGZaomQ",
        "outputId": "f14f64e0-8ff8-4fde-ae58-fd0ff5016f74"
      },
      "execution_count": 33,
      "outputs": [
        {
          "output_type": "stream",
          "name": "stdout",
          "text": [
            "Faturamento por categoria:\n",
            "Categoria do Produto\n",
            "brinquedos                23993.78\n",
            "eletrodomesticos         484913.36\n",
            "eletronicos              572659.23\n",
            "esporte e lazer           52387.55\n",
            "instrumentos musicais    121731.69\n",
            "livros                    11713.92\n",
            "moveis                   250178.11\n",
            "utilidades domesticas     16931.48\n",
            "Name: Preço, dtype: float64\n"
          ]
        }
      ]
    },
    {
      "cell_type": "markdown",
      "source": [
        "###Margem lucro por categoria"
      ],
      "metadata": {
        "id": "mJpWlGnmaz_u"
      }
    },
    {
      "cell_type": "code",
      "source": [
        "df_categoria = pd.DataFrame({\n",
        "    \"Faturamento\": faturamento_por_categoria,\n",
        "    \"Frete Total\": loja.groupby(\"Categoria do Produto\")[\"Frete\"].sum()\n",
        "})\n",
        "\n",
        "df_categoria[\"Lucro Líquido\"] = df_categoria[\"Faturamento\"] - df_categoria[\"Frete Total\"]\n",
        "df_categoria[\"Margem (%)\"] = (df_categoria[\"Lucro Líquido\"] / df_categoria[\"Faturamento\"]) * 100\n",
        "\n",
        "print(\"Margem de Lucro por Categoria:\")\n",
        "print(df_categoria)"
      ],
      "metadata": {
        "colab": {
          "base_uri": "https://localhost:8080/"
        },
        "id": "Sf727yxfa4nF",
        "outputId": "18d605d6-5ade-4a76-da32-609c3921b377"
      },
      "execution_count": 34,
      "outputs": [
        {
          "output_type": "stream",
          "name": "stdout",
          "text": [
            "Margem de Lucro por Categoria:\n",
            "                       Faturamento   Frete Total  Lucro Líquido  Margem (%)\n",
            "Categoria do Produto                                                       \n",
            "brinquedos                23993.78   1305.485959   22688.294041   94.559065\n",
            "eletrodomesticos         484913.36  25764.960571  459148.399429   94.686688\n",
            "eletronicos              572659.23  30619.008660  542040.221340   94.653189\n",
            "esporte e lazer           52387.55   2829.107567   49558.442433   94.599657\n",
            "instrumentos musicais    121731.69   6511.805861  115219.884139   94.650690\n",
            "livros                    11713.92    622.490244   11091.429756   94.685893\n",
            "moveis                   250178.11  13327.207336  236850.902664   94.672912\n",
            "utilidades domesticas     16931.48    857.901598   16073.578402   94.933097\n"
          ]
        }
      ]
    },
    {
      "cell_type": "code",
      "source": [
        "print(type(loja))"
      ],
      "metadata": {
        "id": "A34YupIuYhfF",
        "colab": {
          "base_uri": "https://localhost:8080/"
        },
        "outputId": "c0285d3d-2c0a-430c-e1c7-f8b1b4e728dd"
      },
      "execution_count": 31,
      "outputs": [
        {
          "output_type": "stream",
          "name": "stdout",
          "text": [
            "<class 'pandas.core.frame.DataFrame'>\n"
          ]
        }
      ]
    },
    {
      "cell_type": "markdown",
      "source": [
        "# 3. Média de Avaliação das Lojas"
      ],
      "metadata": {
        "id": "Rq6tU_xSY3jk"
      }
    },
    {
      "cell_type": "code",
      "source": [
        "media_avaliacao_por_loja = {\n",
        "    \"Loja 1\": loja[\"Avaliação da compra\"].mean(),\n",
        "    \"Loja 2\": loja2[\"Avaliação da compra\"].mean(),\n",
        "    \"Loja 3\": loja3[\"Avaliação da compra\"].mean(),\n",
        "    \"Loja 4\": loja4[\"Avaliação da compra\"].mean(),\n",
        "}\n",
        "\n",
        "print(\"Média de Avaliação por Loja:\")\n",
        "for nome_loja, media_avaliacao in media_avaliacao_por_loja.items():\n",
        "    print(f\"{nome_loja}: {media_avaliacao:.2f}\")"
      ],
      "metadata": {
        "id": "bh3jjjJwY5MU",
        "colab": {
          "base_uri": "https://localhost:8080/"
        },
        "outputId": "a4f1d171-d03d-4b8a-a155-8d5c47a09de9"
      },
      "execution_count": 35,
      "outputs": [
        {
          "output_type": "stream",
          "name": "stdout",
          "text": [
            "Média de Avaliação por Loja:\n",
            "Loja 1: 3.98\n",
            "Loja 2: 4.04\n",
            "Loja 3: 4.05\n",
            "Loja 4: 4.00\n"
          ]
        }
      ]
    },
    {
      "cell_type": "code",
      "source": [],
      "metadata": {
        "id": "I0KkjPoTY88F"
      },
      "execution_count": null,
      "outputs": []
    },
    {
      "cell_type": "markdown",
      "source": [
        "# 4. Produtos Mais e Menos Vendidos"
      ],
      "metadata": {
        "id": "DmNp1KPBZCm-"
      }
    },
    {
      "cell_type": "code",
      "source": [
        "produtos_mais_vendidos = loja[\"Produto\"].value_counts().head(10)  # Top 10 produtos mais vendidos\n",
        "print(\"Produtos mais vendidos:\")\n",
        "print(produtos_mais_vendidos)"
      ],
      "metadata": {
        "id": "qoyjqijQZHfF",
        "colab": {
          "base_uri": "https://localhost:8080/"
        },
        "outputId": "6ce11a98-9fd4-444f-94f4-b3063f202db6"
      },
      "execution_count": 36,
      "outputs": [
        {
          "output_type": "stream",
          "name": "stdout",
          "text": [
            "Produtos mais vendidos:\n",
            "Produto\n",
            "Micro-ondas           60\n",
            "TV Led UHD 4K         60\n",
            "Guarda roupas         60\n",
            "Secadora de roupas    58\n",
            "Cômoda                56\n",
            "Blocos de montar      56\n",
            "Bola de basquete      55\n",
            "Bicicleta             54\n",
            "Copo térmico          54\n",
            "Geladeira             54\n",
            "Name: count, dtype: int64\n"
          ]
        }
      ]
    },
    {
      "cell_type": "code",
      "source": [
        "produtos_menos_vendidos = loja[\"Produto\"].value_counts().tail(10)  # Últimos 10 produtos menos vendidos\n",
        "print(\"Produtos menos vendidos:\")\n",
        "print(produtos_menos_vendidos)"
      ],
      "metadata": {
        "id": "0Sw3sd4IZIGW",
        "colab": {
          "base_uri": "https://localhost:8080/"
        },
        "outputId": "121e7750-f43f-4579-f952-2f3605f66db8"
      },
      "execution_count": 37,
      "outputs": [
        {
          "output_type": "stream",
          "name": "stdout",
          "text": [
            "Produtos menos vendidos:\n",
            "Produto\n",
            "Boneca bebê                    40\n",
            "Mesa de jantar                 40\n",
            "Dinossauro Rex                 40\n",
            "Corda de pular                 40\n",
            "Mochila                        39\n",
            "Ciência de dados com python    39\n",
            "Pandeiro                       36\n",
            "Panela de pressão              35\n",
            "Headset                        33\n",
            "Celular ABXY                   33\n",
            "Name: count, dtype: int64\n"
          ]
        }
      ]
    },
    {
      "cell_type": "markdown",
      "source": [
        "###Por categoria"
      ],
      "metadata": {
        "id": "YnoDu8n7cHGw"
      }
    },
    {
      "cell_type": "code",
      "source": [
        "categorias_mais_vendidas = loja.groupby(\"Categoria do Produto\")[\"Produto\"].count().nlargest(5)  # Top 5 mais vendidas\n",
        "print(\"Categorias mais vendidas:\")\n",
        "print(categorias_mais_vendidas)"
      ],
      "metadata": {
        "colab": {
          "base_uri": "https://localhost:8080/"
        },
        "id": "HcXASo5scKH7",
        "outputId": "63a96466-3f73-474f-c2fc-158034519369"
      },
      "execution_count": 38,
      "outputs": [
        {
          "output_type": "stream",
          "name": "stdout",
          "text": [
            "Categorias mais vendidas:\n",
            "Categoria do Produto\n",
            "moveis              465\n",
            "eletronicos         448\n",
            "brinquedos          324\n",
            "eletrodomesticos    312\n",
            "esporte e lazer     284\n",
            "Name: Produto, dtype: int64\n"
          ]
        }
      ]
    },
    {
      "cell_type": "code",
      "source": [
        "categorias_menos_vendidas = loja.groupby(\"Categoria do Produto\")[\"Produto\"].count().nsmallest(5)  # Top 5 menos vendidas\n",
        "print(\"Categorias menos vendidas:\")\n",
        "print(categorias_menos_vendidas)"
      ],
      "metadata": {
        "colab": {
          "base_uri": "https://localhost:8080/"
        },
        "id": "1zJqLWTQcNzd",
        "outputId": "c60b4dcb-5233-40f1-dc0e-b6661af8b8dd"
      },
      "execution_count": 40,
      "outputs": [
        {
          "output_type": "stream",
          "name": "stdout",
          "text": [
            "Categorias menos vendidas:\n",
            "Categoria do Produto\n",
            "utilidades domesticas    171\n",
            "livros                   173\n",
            "instrumentos musicais    182\n",
            "esporte e lazer          284\n",
            "eletrodomesticos         312\n",
            "Name: Produto, dtype: int64\n"
          ]
        }
      ]
    },
    {
      "cell_type": "markdown",
      "source": [
        "# 5. Frete Médio por Loja\n"
      ],
      "metadata": {
        "id": "Fl0cGi3bZKqU"
      }
    },
    {
      "cell_type": "code",
      "source": [
        "frete_medio_por_loja = {\n",
        "    \"Loja 1\": loja[\"Frete\"].mean(),\n",
        "    \"Loja 2\": loja2[\"Frete\"].mean(),\n",
        "    \"Loja 3\": loja3[\"Frete\"].mean(),\n",
        "    \"Loja 4\": loja4[\"Frete\"].mean(),\n",
        "}\n",
        "\n",
        "print(\"Frete Médio por Loja:\")\n",
        "for nome_loja, frete_medio in frete_medio_por_loja.items():\n",
        "    print(f\"{nome_loja}: R${f'{frete_medio:,.2f}'.replace(',', 'X').replace('.', ',').replace('X', '.')}\")"
      ],
      "metadata": {
        "id": "S2JeaCykZNy9",
        "colab": {
          "base_uri": "https://localhost:8080/"
        },
        "outputId": "b7cec532-3f0b-43b2-83c8-28fe516e76eb"
      },
      "execution_count": 30,
      "outputs": [
        {
          "output_type": "stream",
          "name": "stdout",
          "text": [
            "Frete Médio por Loja:\n",
            "Loja 1: R$34,69\n",
            "Loja 2: R$33,62\n",
            "Loja 3: R$33,07\n",
            "Loja 4: R$31,28\n"
          ]
        }
      ]
    },
    {
      "cell_type": "code",
      "source": [],
      "metadata": {
        "id": "0tSdCie9ZQlt"
      },
      "execution_count": null,
      "outputs": []
    }
  ]
}